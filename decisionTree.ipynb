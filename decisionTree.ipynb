{
 "cells": [
  {
   "cell_type": "code",
   "execution_count": 29,
   "id": "ffa717a3-4eec-4560-9abe-be976fd8735f",
   "metadata": {},
   "outputs": [
    {
     "data": {
      "text/plain": [
       "_StoreAction(option_strings=['--dataset'], dest='dataset', nargs=None, const=None, default='xsede_revised.csv', type=<function <lambda> at 0x12b3118b0>, choices=None, help='dataset file name or list of dataset files separated by comma.', metavar=None)"
      ]
     },
     "execution_count": 29,
     "metadata": {},
     "output_type": "execute_result"
    }
   ],
   "source": [
    "import argparse\n",
    "import os\n",
    "import pandas as pd\n",
    "import numpy as np\n",
    "from sklearn.model_selection import train_test_split\n",
    "from sklearn.ensemble import RandomForestRegressor\n",
    "from sklearn.tree import export_graphviz\n",
    "import pydot\n",
    "import matplotlib.pyplot as plt\n",
    "\n",
    "parser = argparse.ArgumentParser()\n",
    "\n",
    "parser.add_argument(\"--dataset\",\n",
    "    type=lambda expr: [\n",
    "        os.path.abspath(\"../DataFiles/{}\".format(r)) for r in expr.split(\",\")],\n",
    "    default=\"xsede_revised.csv\",\n",
    "    help=\"dataset file name or list of dataset files separated by comma.\")"
   ]
  },
  {
   "cell_type": "code",
   "execution_count": 30,
   "id": "679d79ee-e7ca-4c81-a06c-92851d8f5e71",
   "metadata": {},
   "outputs": [],
   "source": [
    "#dataset_file_location is a \"list\" of considered dataset files\n",
    "#function takes a list and return a dataframe created from provided locations.\n",
    "#capable of creating a single dataframe for multiple data file locations\n",
    "\n",
    "def load_dataset_from_file(dataset_file_location):\n",
    "    result_df=pd.read_csv(dataset_file_location)\n",
    "    return result_df\n",
    "\n",
    "\n",
    "def extractRequiredColumn(df,requiredFields):\n",
    "    return df[df.columns[df.columns.isin(requiredFields)]]\n",
    "\n",
    "def NormalizeData(df):\n",
    "    df_no_NA=df.replace(to_replace=\"na\",value= 1).astype(float) # line replace any 'na' in the dataset with 0\n",
    "    return df_no_NA/df_no_NA.max()\n",
    "\n",
    "def set_labels(dataFrame,LabelName):\n",
    "    return np.array(dataFrame[LabelName])\n",
    "\n",
    "def set_features(dataFrame,LabelName,dropFeatureList):\n",
    "    dataFrame= dataFrame.drop(LabelName, axis = 1)\n",
    "    for i in dropFeatureList:\n",
    "        dataFrame= dataFrame.drop(i, axis = 1)\n",
    "    feature_list=list(dataFrame.columns)\n",
    "    return np.array(dataFrame),feature_list\n",
    "\n",
    "class ReadFile:\n",
    "    def __init__(self,\n",
    "                dataset_file_location,requiredFields):\n",
    "\n",
    "        #dataset_file_location is a \"list\" of considered dataset files\n",
    "        self.dataset=load_dataset_from_file(dataset_file_location)\n",
    "        self.requiredData=extractRequiredColumn(self.dataset,requiredFields)\n",
    "        self.requiredNormalizedData=NormalizeData(self.requiredData)\n",
    "\n",
    "class pd2Array:\n",
    "    def __init__(self,dataFrame,LabelName,dropFeatureList):\n",
    "\n",
    "        self.labels=set_labels(dataFrame,LabelName)\n",
    "        self.features,self.feature_list=set_features(dataFrame,LabelName,dropFeatureList)"
   ]
  },
  {
   "cell_type": "code",
   "execution_count": 35,
   "id": "cc49672e-ddbe-4e41-a1d7-9344ec261129",
   "metadata": {},
   "outputs": [
    {
     "name": "stdout",
     "output_type": "stream",
     "text": [
      "           FileSize     FileCount  Bandwidth           RTT    BufferSize  \\\n",
      "count  11324.000000  11324.000000    11324.0  11324.000000  11324.000000   \n",
      "mean       0.127780      0.020047        1.0      0.828553      0.996073   \n",
      "std        0.194730      0.080649        0.0      0.103877      0.008692   \n",
      "min        0.000098      0.000048        1.0      0.634921      0.976837   \n",
      "25%        0.001563      0.000048        1.0      0.793651      1.000000   \n",
      "50%        0.033438      0.001194        1.0      0.793651      1.000000   \n",
      "75%        0.192637      0.012227        1.0      0.952381      1.000000   \n",
      "max        1.000000      1.000000        1.0      1.000000      1.000000   \n",
      "\n",
      "        Parallelism   Concurrency    Pipelining    Throughput  \n",
      "count  11324.000000  11324.000000  11324.000000  11324.000000  \n",
      "mean       0.133658      0.164645      0.043565      0.131316  \n",
      "std        0.161579      0.252020      0.089223      0.112279  \n",
      "min        0.015625      0.031250      0.000000      0.000696  \n",
      "25%        0.015625      0.031250      0.007812      0.054605  \n",
      "50%        0.062500      0.031250      0.007812      0.111361  \n",
      "75%        0.156250      0.187500      0.039062      0.174457  \n",
      "max        1.000000      1.000000      1.000000      1.000000  \n"
     ]
    }
   ],
   "source": [
    "if __name__ == \"__main__\":\n",
    "#     args = parser.parse_args()\n",
    "    #requiredFields is a list of the fields containing attributes and the output\n",
    "    requiredFields=['FileSize', 'FileCount',\n",
    "   'Bandwidth', 'RTT', 'BufferSize', 'Parallelism', 'Concurrency',\n",
    "   'Pipelining', 'Throughput']\n",
    "    LabelName='Throughput'\n",
    "    dropFeatureList=['Parallelism', 'Concurrency',\n",
    "   'Pipelining']\n",
    "   # fileData is an object of ReadFile class\n",
    "    dataset=\"../DataFiles/xsede_revised.csv\"\n",
    "    fileData=ReadFile(dataset,requiredFields)\n",
    "    print(fileData.requiredNormalizedData.describe())\n",
    "\n",
    "    \n",
    "\n",
    "   "
   ]
  },
  {
   "cell_type": "code",
   "execution_count": 32,
   "id": "dddb7b79-2ddc-4f89-ab49-f369ae051a52",
   "metadata": {},
   "outputs": [
    {
     "name": "stdout",
     "output_type": "stream",
     "text": [
      "Mean Absolute Error: 0.05\n"
     ]
    }
   ],
   "source": [
    "    processedData=pd2Array(fileData.requiredNormalizedData,LabelName,dropFeatureList)\n",
    "    # print(processedData.labels,len(processedData.labels)) # processedData.labels is np.array\n",
    "    # print(processedData.features,processedData.features.shape) #processedData.features are dataFrame\n",
    "\n",
    "    train_features, test_features, train_labels, test_labels = train_test_split(processedData.features, processedData.labels, test_size = 0.25, random_state = 42)\n",
    "    # print('Training Features Shape:', train_features.shape)\n",
    "    # print('Training Labels Shape:', train_labels.shape)\n",
    "    # print('Testing Features Shape:', test_features.shape)\n",
    "    # print('Testing Labels Shape:', test_labels.shape)\n",
    "\n",
    "\n",
    "    rf = RandomForestRegressor(n_estimators = 1000, min_samples_leaf=1, random_state = 42)\n",
    "    rf.fit(train_features, train_labels)\n",
    "\n",
    "    # Use the forest's predict method on the test data\n",
    "    predictions = rf.predict(test_features)\n",
    "    # Calculate the absolute errors\n",
    "    errors = abs(predictions - test_labels)\n",
    "    # Print out the mean absolute error (mae)\n",
    "    print('Mean Absolute Error:', round(np.mean(errors), 2))"
   ]
  },
  {
   "cell_type": "code",
   "execution_count": 33,
   "id": "51669c73-99c2-4805-a070-f038c4a61e8e",
   "metadata": {},
   "outputs": [
    {
     "name": "stdout",
     "output_type": "stream",
     "text": [
      "Accuracy: 34.41 %.\n"
     ]
    }
   ],
   "source": [
    "    # Calculate mean absolute percentage error (MAPE)\n",
    "    mape = 100 * (errors / test_labels)\n",
    "    # Calculate and display accuracy\n",
    "    accuracy = 100 - np.mean(mape)\n",
    "    print('Accuracy:', round(accuracy, 2), '%.')\n",
    "    tree = rf.estimators_[5]\n",
    "    export_graphviz(tree, out_file = 'tree.dot', feature_names = processedData.feature_list, rounded = True, precision = 1)\n",
    "    # Use dot file to create a graph\n",
    "    (graph, ) = pydot.graph_from_dot_file('./tree.dot')\n",
    "    # Write graph to a png file\n",
    "    graph.write_png('tree.png')\n",
    "\n",
    "        # Limit depth of tree to 3 levels\n",
    "    rf_small = RandomForestRegressor(n_estimators=10, max_depth = 3)\n",
    "    rf_small.fit(train_features, train_labels)\n",
    "    # Extract the small tree\n",
    "    tree_small = rf_small.estimators_[5]\n",
    "    # Save the tree as a png image\n",
    "    export_graphviz(tree_small, out_file = 'small_tree.dot', feature_names = processedData.feature_list, rounded = True, precision = 1)\n",
    "    (graph, ) = pydot.graph_from_dot_file('small_tree.dot')\n",
    "    graph.write_png('small_tree.png')"
   ]
  },
  {
   "cell_type": "code",
   "execution_count": 36,
   "id": "dac7b201-a79e-4b4f-ac94-584284fcb1f4",
   "metadata": {},
   "outputs": [
    {
     "name": "stdout",
     "output_type": "stream",
     "text": [
      "Variable: FileSize             Importance: 0.45\n",
      "Variable: FileCount            Importance: 0.33\n",
      "Variable: RTT                  Importance: 0.17\n",
      "Variable: BufferSize           Importance: 0.05\n",
      "Variable: Bandwidth            Importance: 0.0\n"
     ]
    },
    {
     "data": {
      "image/png": "[encoded data removed]",
      "text/plain": [
       "<Figure size 432x288 with 1 Axes>"
      ]
     },
     "metadata": {
      "needs_background": "light"
     },
     "output_type": "display_data"
    }
   ],
   "source": [
    "    # Get numerical feature importances\n",
    "    importances = list(rf.feature_importances_)\n",
    "    # List of tuples with variable and importance\n",
    "    feature_importances = [(feature, round(importance, 2)) for feature, importance in zip(processedData.feature_list, importances)]\n",
    "    # Sort the feature importances by most important first\n",
    "    feature_importances = sorted(feature_importances, key = lambda x: x[1], reverse = True)\n",
    "    # Print out the feature and importances\n",
    "    [print('Variable: {:20} Importance: {}'.format(*pair)) for pair in feature_importances]\n",
    "\n",
    "    instance=np.array([i for i in range(2831)])\n",
    "\n",
    "    true_data = pd.DataFrame(data = {'Instance': instance, 'actual': test_labels})\n",
    "\n",
    "    predictions_data = pd.DataFrame(data = {'Instance': instance, 'prediction': predictions})\n",
    "    # Plot the actual values\n",
    "    plt.plot(true_data['Instance'], true_data['actual'], 'k-', label = 'actual')\n",
    "    # Plot the predicted values\n",
    "    plt.plot(predictions_data['Instance'], predictions_data['prediction'], 'c--', label = 'prediction')\n",
    "    plt.xticks(rotation = '60');\n",
    "    plt.legend()\n",
    "    # Graph labels\n",
    "    plt.xlabel('Instance'); plt.ylabel('Throughput'); plt.title('Actual and Predicted Values')\n",
    "    plt.show()"
   ]
  },
  {
   "cell_type": "code",
   "execution_count": null,
   "id": "2cf4a3a9-421b-4786-8382-e5dc0439aab9",
   "metadata": {},
   "outputs": [],
   "source": []
  }
 ],
 "metadata": {
  "kernelspec": {
   "display_name": "Python 3",
   "language": "python",
   "name": "python3"
  },
  "language_info": {
   "codemirror_mode": {
    "name": "ipython",
    "version": 3
   },
   "file_extension": ".py",
   "mimetype": "text/x-python",
   "name": "python",
   "nbconvert_exporter": "python",
   "pygments_lexer": "ipython3",
   "version": "3.8.10"
  }
 },
 "nbformat": 4,
 "nbformat_minor": 5
}
